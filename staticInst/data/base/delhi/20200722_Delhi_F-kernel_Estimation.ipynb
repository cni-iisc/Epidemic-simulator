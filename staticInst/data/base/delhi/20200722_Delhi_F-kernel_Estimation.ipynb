{
 "cells": [
  {
   "cell_type": "code",
   "execution_count": 1,
   "metadata": {},
   "outputs": [],
   "source": [
    "import numpy as np"
   ]
  },
  {
   "attachments": {},
   "cell_type": "markdown",
   "metadata": {},
   "source": [
    "The purpose of this notebook is to fit the commute distance distribution of Delhi NCT to a kernel of the form\n",
    "\n",
    "$$\n",
    "f(d) = \\frac{1}{1 + (d/a)^b}.\n",
    "$$\n",
    "\n",
    "What this means that we wish to find parameters $a$ and $b$ such that $f(d)$ is a close approximation to the fraction of the population in Mumbai **which travels distance $d$ or more**.\n",
    "\n",
    "We will use data from Table A-9 (Pg 45-46) from a [study](http://tripp.iitd.ac.in/assets/publication/WorkTravelReport.pdf) titled *Travel to Work In India: Current Patterns and Future Concerns*, by the Transportation research and Injury Prevention Programme, IIT Delhi\n",
    "\n",
    "\n",
    "**Note that we are using \"percentage of individuals going to work\".**"
   ]
  },
  {
   "cell_type": "markdown",
   "metadata": {},
   "source": [
    "Since we are interested in fitting the complement of the cdf, we assign each bin in the histogram to its lower end-point.  This gives us the following list.\n",
    "\n",
    "We make the following interpretation on the table:\n",
    "- workers belonging to *no travel* bin are set in `dvals[0]` with value 0\n",
    "- workers belonging to travel *Upto 1 km* are set in `dvals[1]` with value 1"
   ]
  },
  {
   "cell_type": "code",
   "execution_count": 2,
   "metadata": {},
   "outputs": [],
   "source": [
    "dvals = np.array([0.0, 1.0, 2.0, 6.0, 11.0, 21.0, 31.0, 50.0])"
   ]
  },
  {
   "cell_type": "markdown",
   "metadata": {},
   "source": [
    "Next, we readoff, approximately, the fraction of the populations in each of the bins."
   ]
  },
  {
   "cell_type": "code",
   "execution_count": 3,
   "metadata": {},
   "outputs": [],
   "source": [
    "binvals = 0.01*np.array([15.9, 16.1, 24.5, 18.4, 15.0, 6.3, 3.0, 0.8])"
   ]
  },
  {
   "cell_type": "markdown",
   "metadata": {},
   "source": [
    "We check that `binvals` sums up to 1."
   ]
  },
  {
   "cell_type": "code",
   "execution_count": 4,
   "metadata": {},
   "outputs": [
    {
     "data": {
      "text/plain": [
       "1.0"
      ]
     },
     "execution_count": 4,
     "metadata": {},
     "output_type": "execute_result"
    }
   ],
   "source": [
    "np.sum(binvals)"
   ]
  },
  {
   "cell_type": "markdown",
   "metadata": {},
   "source": [
    "We now compute a cumulative version of `binvals`, whose $i$th element is the total fraction commuting at least `dvals[i]`."
   ]
  },
  {
   "cell_type": "code",
   "execution_count": 5,
   "metadata": {},
   "outputs": [
    {
     "data": {
      "text/plain": [
       "array([1.   , 0.841, 0.68 , 0.435, 0.251, 0.101, 0.038, 0.008])"
      ]
     },
     "execution_count": 5,
     "metadata": {},
     "output_type": "execute_result"
    }
   ],
   "source": [
    "cumulative_binvals = np.flip(np.cumsum(np.flip(binvals)))\n",
    "cumulative_binvals"
   ]
  },
  {
   "cell_type": "markdown",
   "metadata": {},
   "source": [
    "We can now start the fitting process.  We use the [non-linear least squares implmentation](https://docs.scipy.org/doc/scipy/reference/generated/scipy.optimize.curve_fit.html) in `scipy.optimize`."
   ]
  },
  {
   "cell_type": "code",
   "execution_count": 6,
   "metadata": {},
   "outputs": [
    {
     "data": {
      "text/plain": [
       "(array([4.15299381, 1.22367266]), array([0.28775594, 0.08735951]))"
      ]
     },
     "execution_count": 6,
     "metadata": {},
     "output_type": "execute_result"
    }
   ],
   "source": [
    "from scipy.optimize import curve_fit\n",
    "# The function to be fit\n",
    "def f(d, a, b):\n",
    "    return 1.0/(1.0 + (d/a)**b)\n",
    "\n",
    "fit_data = curve_fit(f, dvals, cumulative_binvals)\n",
    "params = fit_data[0]\n",
    "params_error = np.sqrt(np.diag(fit_data[1]))\n",
    "params, params_error"
   ]
  },
  {
   "cell_type": "markdown",
   "metadata": {},
   "source": [
    "Let us now plot the fitted curve and the actual values."
   ]
  },
  {
   "cell_type": "code",
   "execution_count": 7,
   "metadata": {},
   "outputs": [
    {
     "data": {
      "image/png": "[encoded data removed]",
      "text/plain": [
       "<Figure size 432x288 with 1 Axes>"
      ]
     },
     "metadata": {
      "needs_background": "light"
     },
     "output_type": "display_data"
    }
   ],
   "source": [
    "import matplotlib.pyplot as plt\n",
    "plt.plot(dvals, cumulative_binvals, label=\"actual\")\n",
    "drange = np.linspace(np.min(dvals), np.max(dvals), num = 100)\n",
    "fvals = f(drange, *params)\n",
    "bangkok_vals = f(drange, 4.0, 3.8)\n",
    "blr_vals = f(drange, 10.751, 5.384)\n",
    "plt.plot(drange, fvals, label=\"fitted\")\n",
    "plt.plot(drange, bangkok_vals, label=\"Bangkok values\")\n",
    "plt.plot(drange, blr_vals, label=\"Bengaluru values\")\n",
    "plt.legend();"
   ]
  },
  {
   "cell_type": "markdown",
   "metadata": {},
   "source": [
    "The parameter $(a, b)$ computed from this are therefore given by:"
   ]
  },
  {
   "cell_type": "code",
   "execution_count": 8,
   "metadata": {},
   "outputs": [
    {
     "name": "stdout",
     "output_type": "stream",
     "text": [
      "[a, b] = [4.15299381 1.22367266].\n"
     ]
    }
   ],
   "source": [
    "print(f\"[a, b] = {params}.\")"
   ]
  },
  {
   "cell_type": "code",
   "execution_count": null,
   "metadata": {},
   "outputs": [],
   "source": []
  }
 ],
 "metadata": {
  "@webio": {
   "lastCommId": null,
   "lastKernelId": null
  },
  "kernelspec": {
   "display_name": "Python 3",
   "language": "python",
   "name": "python3"
  },
  "language_info": {
   "codemirror_mode": {
    "name": "ipython",
    "version": 3
   },
   "file_extension": ".py",
   "mimetype": "text/x-python",
   "name": "python",
   "nbconvert_exporter": "python",
   "pygments_lexer": "ipython3",
   "version": "3.8.2"
  }
 },
 "nbformat": 4,
 "nbformat_minor": 4
}
